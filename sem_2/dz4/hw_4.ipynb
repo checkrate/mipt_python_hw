{
 "cells": [
  {
   "cell_type": "code",
   "execution_count": 1,
   "id": "8163e46d",
   "metadata": {},
   "outputs": [],
   "source": [
    "import numpy as np\n",
    "from PIL import Image\n",
    "import os\n",
    "import random\n",
    "from scipy.optimize import differential_evolution\n",
    "from typing import List, Tuple, Callable, Any\n"
   ]
  },
  {
   "cell_type": "code",
   "execution_count": 2,
   "id": "317f32db",
   "metadata": {},
   "outputs": [],
   "source": [
    "def calculate_mse(img1: np.ndarray, img2: np.ndarray) -> float:\n",
    "    \"\"\"Возвращает среднеквадратичную ошибку между двумя изображениями.\"\"\"\n",
    "    return np.mean((img1 - img2) ** 2)"
   ]
  },
  {
   "cell_type": "code",
   "execution_count": 10,
   "id": "b7bc2869",
   "metadata": {},
   "outputs": [],
   "source": [
    "from typing import List\n",
    "\n",
    "def load_images_from_folder(path: str) -> List[np.ndarray]:\n",
    "    \"\"\"\n",
    "    Рекурсивно обходит каталог `path` и все его подпапки, \n",
    "    загружая все файлы изображений и возвращая список numpy-массивов.\n",
    "    \"\"\"\n",
    "    imgs = []\n",
    "    for root, _, files in os.walk(path):\n",
    "        for fname in files:\n",
    "            full_path = os.path.join(root, fname)\n",
    "            try:\n",
    "                image = Image.open(full_path).convert('RGB')\n",
    "                imgs.append(np.array(image))\n",
    "            except Exception as e:\n",
    "                print(f\"Пропущен файл {full_path}: не является изображением или ошибка загрузки ({e})\")\n",
    "    return imgs\n"
   ]
  },
  {
   "cell_type": "code",
   "execution_count": 11,
   "id": "2e40a9fe",
   "metadata": {},
   "outputs": [],
   "source": [
    "class Optimizer:\n",
    "    \"\"\"Абстрактный базовый класс для оптимизаторов.\"\"\"\n",
    "    def __init__(self, name: str):\n",
    "        self.name = name\n",
    "\n",
    "    def optimize(self, func: Callable, bounds: List[Tuple[float, float]], **kwargs) -> Tuple[Any, float]:\n",
    "        raise NotImplementedError(\"Метод optimize должен быть реализован в подклассе.\")\n",
    "\n",
    "class MonteCarloOptimizer(Optimizer):\n",
    "    \"\"\"Оптимизация методом Монте-Карло\"\"\"\n",
    "    def __init__(self, iterations: int = 1000):\n",
    "        super().__init__(\"monte_carlo\")\n",
    "        self.iterations = iterations\n",
    "\n",
    "    def optimize(self, func: Callable, bounds: List[Tuple[float, float]], **kwargs) -> Tuple[List[float], float]:\n",
    "        best_point = None\n",
    "        best_value = float('inf')\n",
    "        dim = len(bounds)\n",
    "        for _ in range(self.iterations):\n",
    "            # Генерируем случайную точку внутри границ\n",
    "            point = [random.uniform(b[0], b[1]) for b in bounds]\n",
    "            val = func(point)\n",
    "            if val < best_value:\n",
    "                best_value = val\n",
    "                best_point = point\n",
    "        return best_point, best_value\n",
    "\n",
    "class DifferentialEvolutionOptimizer(Optimizer):\n",
    "    \"\"\"Оптимизация методом дифференциальной эволюции\"\"\"\n",
    "    def __init__(self, maxiter: int = 100):\n",
    "        super().__init__(\"differential_evolution\")\n",
    "        self.maxiter = maxiter\n",
    "\n",
    "    def optimize(self, func: Callable, bounds: List[Tuple[float, float]], **kwargs) -> Tuple[np.ndarray, float]:\n",
    "        result = differential_evolution(func, bounds, maxiter=self.maxiter, disp=False)\n",
    "        return result.x, result.fun\n"
   ]
  },
  {
   "cell_type": "code",
   "execution_count": 12,
   "id": "cd184054",
   "metadata": {},
   "outputs": [],
   "source": [
    "class ResultManager:\n",
    "    \"\"\"Хранит результаты оптимизации в списке словарей.\"\"\"\n",
    "    def __init__(self):\n",
    "        self.records = []\n",
    "\n",
    "    def add(self, method_name: str, best_point: Any, best_metric: float) -> None:\n",
    "        self.records.append({\n",
    "            'method': method_name,\n",
    "            'best_point': best_point,\n",
    "            'best_mse': best_metric\n",
    "        })\n",
    "\n",
    "    def get_all(self) -> List[dict]:\n",
    "        return self.records\n"
   ]
  },
  {
   "cell_type": "code",
   "execution_count": 13,
   "id": "c8862f22",
   "metadata": {},
   "outputs": [],
   "source": [
    "def make_objective(reference: np.ndarray, target: np.ndarray) -> Callable:\n",
    "    \"\"\"Создаёт функцию, принимающую параметры и возвращающую MSE.\"\"\"\n",
    "    def objective(params: List[float]) -> float:\n",
    "        transformed = target  # Без изменений\n",
    "        return calculate_mse(reference, transformed)\n",
    "    return objective\n"
   ]
  },
  {
   "cell_type": "code",
   "execution_count": 14,
   "id": "6c3856b7",
   "metadata": {},
   "outputs": [
    {
     "name": "stdout",
     "output_type": "stream",
     "text": [
      "\n",
      "--- Запуск метода: monte_carlo ---\n",
      "Лучшие параметры: [1.8964413116022216, 1.2429097048190882]\n",
      "Значение MSE: 0.0\n",
      "\n",
      "--- Запуск метода: differential_evolution ---\n",
      "Лучшие параметры: [1.26822734 0.56915435]\n",
      "Значение MSE: 0.0\n",
      "\n",
      "=== Сводка всех результатов ===\n",
      "Метод: monte_carlo, Лучшая точка: [1.8964413116022216, 1.2429097048190882], MSE: 0.0\n",
      "Метод: differential_evolution, Лучшая точка: [1.26822734 0.56915435], MSE: 0.0\n"
     ]
    }
   ],
   "source": [
    "if __name__ == '__main__':\n",
    "    folder = 'blod_cell'\n",
    "    imgs = load_images_from_folder(folder)\n",
    "    if not imgs:\n",
    "        print('Папка пуста или нет изображений')\n",
    "        raise SystemExit\n",
    "\n",
    "    reference_img = imgs[0]\n",
    "\n",
    "    bounds = [(0.5, 2.0),  \n",
    "              (0.5, 2.0)] \n",
    "\n",
    "    manager = ResultManager()\n",
    "    optimizers = [MonteCarloOptimizer(iterations=500), DifferentialEvolutionOptimizer(maxiter=50)]\n",
    "\n",
    "    for opt in optimizers:\n",
    "        print(f\"\\n--- Запуск метода: {opt.name} ---\")\n",
    "        obj_func = make_objective(reference_img, reference_img)\n",
    "        best_pt, best_val = opt.optimize(obj_func, bounds)\n",
    "        manager.add(opt.name, best_pt, best_val)\n",
    "        print(f\"Лучшие параметры: {best_pt}\")\n",
    "        print(f\"Значение MSE: {best_val}\")\n",
    "\n",
    "    print(\"\\n=== Сводка всех результатов ===\")\n",
    "    for rec in manager.get_all():\n",
    "        print(f\"Метод: {rec['method']}, Лучшая точка: {rec['best_point']}, MSE: {rec['best_mse']}\")\n"
   ]
  },
  {
   "cell_type": "code",
   "execution_count": null,
   "id": "87f998cb",
   "metadata": {},
   "outputs": [],
   "source": []
  }
 ],
 "metadata": {
  "kernelspec": {
   "display_name": "Python 3",
   "language": "python",
   "name": "python3"
  },
  "language_info": {
   "codemirror_mode": {
    "name": "ipython",
    "version": 3
   },
   "file_extension": ".py",
   "mimetype": "text/x-python",
   "name": "python",
   "nbconvert_exporter": "python",
   "pygments_lexer": "ipython3",
   "version": "3.12.8"
  }
 },
 "nbformat": 4,
 "nbformat_minor": 5
}
