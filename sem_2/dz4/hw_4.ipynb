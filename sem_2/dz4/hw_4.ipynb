{
 "cells": [
  {
   "cell_type": "markdown",
   "id": "85e68fed",
   "metadata": {},
   "source": [
    "# Оптимизация изображений: MSE и сравнение подходов\n",
    "В этом ноутбуке мы вычисляем среднеквадратичную ошибку (MSE) между изображениями и сравниваем два метода оптимизации: Монте-Карло и Дифференциальная эволюция."
   ]
  },
  {
   "cell_type": "code",
   "execution_count": null,
   "id": "8163e46d",
   "metadata": {},
   "outputs": [],
   "source": [
    "import numpy as np\n",
    "from PIL import Image\n",
    "import os\n",
    "import random\n",
    "from scipy.optimize import differential_evolution\n",
    "from typing import List, Tuple, Callable, Any\n"
   ]
  },
  {
   "cell_type": "markdown",
   "id": "6f523c95",
   "metadata": {},
   "source": [
    "## Функция для расчёта MSE\n",
    "Ниже определена функция, которая принимает два массива изображений и возвращает их среднеквадратичную ошибку."
   ]
  },
  {
   "cell_type": "code",
   "execution_count": null,
   "id": "317f32db",
   "metadata": {},
   "outputs": [],
   "source": [
    "def calculate_mse(img1: np.ndarray, img2: np.ndarray) -> float:\n",
    "    \"\"\"Возвращает среднеквадратичную ошибку между двумя изображениями.\"\"\"\n",
    "    return np.mean((img1 - img2) ** 2)\n"
   ]
  },
  {
   "cell_type": "markdown",
   "id": "c3e54623",
   "metadata": {},
   "source": [
    "## Загрузка изображений\n",
    "Функция, которая проходит по заданному каталогу и загружает все файлы изображений в виде numpy-массивов."
   ]
  },
  {
   "cell_type": "code",
   "execution_count": null,
   "id": "b7bc2869",
   "metadata": {},
   "outputs": [],
   "source": [
    "def load_images_from_folder(path: str) -> List[np.ndarray]:\n",
    "    \"\"\"Сканирует директорию и возвращает список массивов изображений.\"\"\"\n",
    "    imgs = []\n",
    "    for fname in os.listdir(path):\n",
    "        full_path = os.path.join(path, fname)\n",
    "        if os.path.isfile(full_path):\n",
    "            try:\n",
    "                image = Image.open(full_path)\n",
    "                imgs.append(np.array(image))\n",
    "            except Exception as e:\n",
    "                print(f\"Не удалось загрузить {fname}: {e}\")\n",
    "    return imgs\n"
   ]
  },
  {
   "cell_type": "markdown",
   "id": "532e7447",
   "metadata": {},
   "source": [
    "## Классы оптимизаторов\n",
    "Определяем базовый класс `Optimizer` и два наследника: `MonteCarloOptimizer` и `DifferentialEvolutionOptimizer`."
   ]
  },
  {
   "cell_type": "code",
   "execution_count": null,
   "id": "2e40a9fe",
   "metadata": {},
   "outputs": [],
   "source": [
    "class Optimizer:\n",
    "    \"\"\"Абстрактный базовый класс для оптимизаторов.\"\"\"\n",
    "    def __init__(self, name: str):\n",
    "        self.name = name\n",
    "\n",
    "    def optimize(self, func: Callable, bounds: List[Tuple[float, float]], **kwargs) -> Tuple[Any, float]:\n",
    "        raise NotImplementedError(\"Метод optimize должен быть реализован в подклассе.\")\n",
    "\n",
    "class MonteCarloOptimizer(Optimizer):\n",
    "    \"\"\"Оптимизация методом Монте-Карло\"\"\"\n",
    "    def __init__(self, iterations: int = 1000):\n",
    "        super().__init__(\"monte_carlo\")\n",
    "        self.iterations = iterations\n",
    "\n",
    "    def optimize(self, func: Callable, bounds: List[Tuple[float, float]], **kwargs) -> Tuple[List[float], float]:\n",
    "        best_point = None\n",
    "        best_value = float('inf')\n",
    "        dim = len(bounds)\n",
    "        for _ in range(self.iterations):\n",
    "            # Генерируем случайную точку внутри границ\n",
    "            point = [random.uniform(b[0], b[1]) for b in bounds]\n",
    "            val = func(point)\n",
    "            if val < best_value:\n",
    "                best_value = val\n",
    "                best_point = point\n",
    "        return best_point, best_value\n",
    "\n",
    "class DifferentialEvolutionOptimizer(Optimizer):\n",
    "    \"\"\"Оптимизация методом дифференциальной эволюции\"\"\"\n",
    "    def __init__(self, maxiter: int = 100):\n",
    "        super().__init__(\"differential_evolution\")\n",
    "        self.maxiter = maxiter\n",
    "\n",
    "    def optimize(self, func: Callable, bounds: List[Tuple[float, float]], **kwargs) -> Tuple[np.ndarray, float]:\n",
    "        result = differential_evolution(func, bounds, maxiter=self.maxiter, disp=False)\n",
    "        return result.x, result.fun\n"
   ]
  },
  {
   "cell_type": "markdown",
   "id": "c8744a13",
   "metadata": {},
   "source": [
    "## Менеджер для сбора результатов\n",
    "Класс `ResultManager` собирает и хранит в памяти результаты каждого запуска оптимизатора, без записи в файл."
   ]
  },
  {
   "cell_type": "code",
   "execution_count": null,
   "id": "cd184054",
   "metadata": {},
   "outputs": [],
   "source": [
    "class ResultManager:\n",
    "    \"\"\"Хранит результаты оптимизации в списке словарей.\"\"\"\n",
    "    def __init__(self):\n",
    "        self.records = []\n",
    "\n",
    "    def add(self, method_name: str, best_point: Any, best_metric: float) -> None:\n",
    "        self.records.append({\n",
    "            'method': method_name,\n",
    "            'best_point': best_point,\n",
    "            'best_mse': best_metric\n",
    "        })\n",
    "\n",
    "    def get_all(self) -> List[dict]:\n",
    "        return self.records\n"
   ]
  },
  {
   "cell_type": "markdown",
   "id": "26e7fe4f",
   "metadata": {},
   "source": [
    "## Построение целевой функции\n",
    "Функция возвращает вложенную функцию, которая принимает набор параметров и вычисляет MSE между эталоном и текущим изображением (здесь без трансформаций)."
   ]
  },
  {
   "cell_type": "code",
   "execution_count": null,
   "id": "c8862f22",
   "metadata": {},
   "outputs": [],
   "source": [
    "def make_objective(reference: np.ndarray, target: np.ndarray) -> Callable:\n",
    "    \"\"\"Создаёт функцию, принимающую параметры и возвращающую MSE.\"\"\"\n",
    "    def objective(params: List[float]) -> float:\n",
    "        # Здесь можно добавить преобразования (например, масштаб, поворот и пр.)\n",
    "        transformed = target  # Без изменений\n",
    "        return calculate_mse(reference, transformed)\n",
    "    return objective\n"
   ]
  },
  {
   "cell_type": "markdown",
   "id": "b0780c4d",
   "metadata": {},
   "source": [
    "## Основной раздел: запуск оптимизаторов\n",
    "Загружаем изображения, устанавливаем эталон, задаём границы параметров, инициализируем менеджер, затем запускаем оба метода и выводим результаты прямо в блокноте."
   ]
  },
  {
   "cell_type": "code",
   "execution_count": null,
   "id": "6c3856b7",
   "metadata": {},
   "outputs": [],
   "source": [
    "if __name__ == '__main__':\n",
    "    # Путь к папке с изображениями\n",
    "    folder = 'save_folder'\n",
    "    imgs = load_images_from_folder(folder)\n",
    "    if not imgs:\n",
    "        print('Папка пуста или нет изображений')\n",
    "        raise SystemExit\n",
    "\n",
    "    # Первое изображение используем как эталон\n",
    "    reference_img = imgs[0]\n",
    "\n",
    "    # Пример границ для гипотетических параметров (например, масштаб по X и Y)\n",
    "    bounds = [(0.5, 2.0),  # масштаб по X\n",
    "              (0.5, 2.0)]  # масштаб по Y\n",
    "\n",
    "    # Инициализируем менеджер и оптимизаторы\n",
    "    manager = ResultManager()\n",
    "    optimizers = [MonteCarloOptimizer(iterations=500), DifferentialEvolutionOptimizer(maxiter=50)]\n",
    "\n",
    "    # Запуск методов оптимизации\n",
    "    for opt in optimizers:\n",
    "        print(f\"\\n--- Запуск метода: {opt.name} ---\")\n",
    "        obj_func = make_objective(reference_img, reference_img)\n",
    "        best_pt, best_val = opt.optimize(obj_func, bounds)\n",
    "        manager.add(opt.name, best_pt, best_val)\n",
    "        print(f\"Лучшие параметры: {best_pt}\")\n",
    "        print(f\"Значение MSE: {best_val}\")\n",
    "\n",
    "    # Вывод всех собранных результатов\n",
    "    print(\"\\n=== Сводка всех результатов ===\")\n",
    "    for rec in manager.get_all():\n",
    "        print(f\"Метод: {rec['method']}, Лучшая точка: {rec['best_point']}, MSE: {rec['best_mse']}\")\n"
   ]
  }
 ],
 "metadata": {},
 "nbformat": 4,
 "nbformat_minor": 5
}
