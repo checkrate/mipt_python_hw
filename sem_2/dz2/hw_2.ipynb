{
 "cells": [
  {
   "cell_type": "markdown",
   "id": "3c92ce73",
   "metadata": {},
   "source": [
    "# Синтетическая генерация изображений клеток крови\n",
    "\n",
    "В этом ноутбуке мы загрузим фоны и изображения клеток из структуры:\n",
    "```\n",
    "blood_cells/\n",
    "├─ background/    # патчи фона\n",
    "└─ cells/         # патчи клеток\n",
    "```\n",
    "и создадим синтетические снимки с наложением клеток на фон."
   ]
  },
  {
   "cell_type": "markdown",
   "id": "ba46ab0b",
   "metadata": {},
   "source": [
    "## 1. Установка и импорт"
   ]
  },
  {
   "cell_type": "code",
   "execution_count": null,
   "id": "4f804885",
   "metadata": {},
   "outputs": [],
   "source": [
    "import os\n",
    "import cv2\n",
    "import numpy as np\n",
    "import random\n",
    "from glob import glob\n",
    "import matplotlib.pyplot as plt"
   ]
  },
  {
   "cell_type": "markdown",
   "id": "6adaf061",
   "metadata": {},
   "source": [
    "## 2. Пути к данным и параметры"
   ]
  },
  {
   "cell_type": "code",
   "execution_count": null,
   "id": "cc605f3e",
   "metadata": {},
   "outputs": [],
   "source": [
    "DATA_DIR = 'blood_cells'\n",
    "BG_DIR = os.path.join(DATA_DIR, 'background')\n",
    "CELL_DIR = os.path.join(DATA_DIR, 'cells')\n",
    "IMG_SIZE = (480, 640)  # высота, ширина\n",
    "MIN_CELLS = 5\n",
    "MAX_CELLS = 25\n",
    "NUM_IMAGES = 5"
   ]
  },
  {
   "cell_type": "markdown",
   "id": "a153ef00",
   "metadata": {},
   "source": [
    "## 3. Загрузка путей к файлам"
   ]
  },
  {
   "cell_type": "code",
   "execution_count": null,
   "id": "108f2ca0",
   "metadata": {},
   "outputs": [],
   "source": [
    "bg_paths = sorted(glob(os.path.join(BG_DIR, '*')))\n",
    "cell_paths = sorted(glob(os.path.join(CELL_DIR, '*')))\n",
    "print(f'Найдено {len(bg_paths)} фонов и {len(cell_paths)} клеток')"
   ]
  },
  {
   "cell_type": "markdown",
   "id": "76722c03",
   "metadata": {},
   "source": [
    "## 4. Функции для генерации координат, наложения и шума"
   ]
  },
  {
   "cell_type": "code",
   "execution_count": null,
   "id": "d8c7e38e",
   "metadata": {},
   "outputs": [],
   "source": [
    "def get_random_bg():\n",
    "    return cv2.imread(random.choice(bg_paths))\n",
    "\n",
    "def get_random_cell(alpha=False):\n",
    "    flags = cv2.IMREAD_UNCHANGED if alpha else cv2.IMREAD_COLOR\n",
    "    return cv2.imread(random.choice(cell_paths), flags)\n",
    "\n",
    "def place_cell(bg, cell, coord, alpha_lvl):\n",
    "    h, w = cell.shape[:2]\n",
    "    if cell.shape[-1] == 4:\n",
    "        # альфа-канал\n",
    "        alpha = (cell[:, :, 3] / 255.0) * alpha_lvl\n",
    "        for c in range(3):\n",
    "            bg[coord[0]:coord[0]+h, coord[1]:coord[1]+w, c] = (\n",
    "                bg[coord[0]:coord[0]+h, coord[1]:coord[1]+w, c] * (1 - alpha) +\n",
    "                cell[:, :, c] * alpha\n",
    "            )\n",
    "    else:\n",
    "        blended = cv2.addWeighted(bg[coord[0]:coord[0]+h, coord[1]:coord[1]+w],\n",
    "                                   1-alpha_lvl, cell, alpha_lvl, 0)\n",
    "        bg[coord[0]:coord[0]+h, coord[1]:coord[1]+w] = blended\n",
    "    return bg\n",
    "\n",
    "def add_noise(img, amount=5):\n",
    "    # процент шумных пикселей\n",
    "    mask = np.random.rand(*img.shape[:2]) < (amount/100)\n",
    "    noise = np.random.randint(0, 256, img.shape, dtype=np.uint8)\n",
    "    img[mask] = noise[mask]\n",
    "    return img"
   ]
  },
  {
   "cell_type": "markdown",
   "id": "0bfab18b",
   "metadata": {},
   "source": [
    "## 5. Генерация одного синтетического изображения"
   ]
  },
  {
   "cell_type": "code",
   "execution_count": null,
   "id": "2238d2fc",
   "metadata": {},
   "outputs": [],
   "source": [
    "def generate_image():\n",
    "    bg = cv2.resize(get_random_bg(), (IMG_SIZE[1], IMG_SIZE[0]))\n",
    "    n_cells = random.randint(MIN_CELLS, MAX_CELLS)\n",
    "    for _ in range(n_cells):\n",
    "        cell = get_random_cell(alpha=True)\n",
    "        cell = cv2.resize(cell, (64, 64))\n",
    "        y = random.randint(0, IMG_SIZE[0] - 64)\n",
    "        x = random.randint(0, IMG_SIZE[1] - 64)\n",
    "        alpha_lvl = random.uniform(0.6, 1.0)\n",
    "        bg = place_cell(bg, cell, (y, x), alpha_lvl)\n",
    "    bg = add_noise(bg, amount=random.uniform(1, 5))\n",
    "    return bg, n_cells"
   ]
  },
  {
   "cell_type": "markdown",
   "id": "50c08b2e",
   "metadata": {},
   "source": [
    "## 6. Сохранение и просмотр результатов"
   ]
  },
  {
   "cell_type": "code",
   "execution_count": null,
   "id": "e66670c8",
   "metadata": {},
   "outputs": [],
   "source": [
    "out_dir = 'generated'\n",
    "os.makedirs(out_dir, exist_ok=True)\n",
    "for i in range(NUM_IMAGES):\n",
    "    img, count = generate_image()\n",
    "    path = os.path.join(out_dir, f'synth_{i}_count{count}.png')\n",
    "    cv2.imwrite(path, img)\n",
    "    # показать результат\n",
    "    plt.figure(figsize=(4,4))\n",
    "    plt.imshow(cv2.cvtColor(img, cv2.COLOR_BGR2RGB))\n",
    "    plt.title(f'Клеток: {count}')\n",
    "    plt.axis('off')\n",
    "    plt.show()"
   ]
  }
 ],
 "metadata": {},
 "nbformat": 4,
 "nbformat_minor": 5
}
