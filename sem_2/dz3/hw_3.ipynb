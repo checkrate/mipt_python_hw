{
 "cells": [
  {
   "cell_type": "code",
   "execution_count": 1,
   "id": "32bf947e",
   "metadata": {},
   "outputs": [],
   "source": [
    "import os\n",
    "import random\n",
    "import cv2\n",
    "import numpy as np\n",
    "from skimage.feature import hog\n",
    "from sklearn.neighbors import KNeighborsClassifier\n",
    "import re\n",
    "import string"
   ]
  },
  {
   "cell_type": "code",
   "execution_count": null,
   "id": "4bfcba36",
   "metadata": {},
   "outputs": [
    {
     "name": "stdout",
     "output_type": "stream",
     "text": [
      "Символы выражения: ['(', 'H', '+', 'h', ')']\n"
     ]
    }
   ],
   "source": [
    "def create_expression_sequence():\n",
    "    seq = []\n",
    "    if random.choice([True, False]):\n",
    "        seq.append('(')\n",
    "    seq.append(random.choice(list(string.digits + string.ascii_letters)))\n",
    "    seq.append(random.choice(['+', '-', '*', '/']))\n",
    "    seq.append(random.choice(list(string.digits + string.ascii_letters)))\n",
    "\n",
    "    if random.choice([True, False]):\n",
    "        seq.append(')')\n",
    "    return seq\n",
    "\n",
    "expression = create_expression_sequence()\n",
    "print(\"Символы выражения:\", expression)\n"
   ]
  },
  {
   "cell_type": "code",
   "execution_count": null,
   "id": "83807e3b",
   "metadata": {},
   "outputs": [
    {
     "name": "stdout",
     "output_type": "stream",
     "text": [
      "Сохранено изображение выражения: generated_expression.png\n"
     ]
    }
   ],
   "source": [
    "def fetch_random_image(symbol):\n",
    "    folder = os.path.join('data', symbol)\n",
    "    choice = random.choice(os.listdir(folder))\n",
    "    img = cv2.imread(os.path.join(folder, choice))\n",
    "    return cv2.resize(img, (45, 45))\n",
    "\n",
    "def build_expression_image(seq, output_path='expression.png'):\n",
    "    images = [fetch_random_image(sym) for sym in seq]\n",
    "    combined = np.hstack(images)\n",
    "    cv2.imwrite(output_path, combined)\n",
    "    return combined\n",
    "\n",
    "expr_img = build_expression_image(expression, 'generated_expression.png')\n",
    "print(\"Сохранено изображение выражения: generated_expression.png\")\n"
   ]
  },
  {
   "cell_type": "code",
   "execution_count": 4,
   "id": "b95e4571",
   "metadata": {},
   "outputs": [
    {
     "name": "stdout",
     "output_type": "stream",
     "text": [
      "KNN-модель обучена.\n"
     ]
    }
   ],
   "source": [
    "def train_knn_model(k=3, samples_per_class=15):\n",
    "    X, y = [], []\n",
    "    classes = os.listdir('data')\n",
    "    for cls in classes:\n",
    "        files = random.sample(os.listdir(os.path.join('data', cls)), samples_per_class)\n",
    "        for f in files:\n",
    "            img = cv2.imread(os.path.join('data', cls, f), cv2.IMREAD_GRAYSCALE)\n",
    "            img = cv2.resize(img, (45, 45))\n",
    "            features = hog(img, pixels_per_cell=(8, 8), cells_per_block=(2, 2))\n",
    "            X.append(features)\n",
    "            y.append(cls)\n",
    "    model = KNeighborsClassifier(n_neighbors=k)\n",
    "    model.fit(X, y)\n",
    "    return model\n",
    "\n",
    "knn = train_knn_model()\n",
    "print(\"KNN-модель обучена.\")"
   ]
  },
  {
   "cell_type": "code",
   "execution_count": 5,
   "id": "0b876924",
   "metadata": {},
   "outputs": [
    {
     "name": "stdout",
     "output_type": "stream",
     "text": [
      "Восстановленная строка: (h+h)\n"
     ]
    }
   ],
   "source": [
    "def classify_expression_image(img, model):\n",
    "    h, w = img.shape[:2]\n",
    "    n = w // 45\n",
    "    seq = []\n",
    "    gray = cv2.cvtColor(img, cv2.COLOR_BGR2GRAY)\n",
    "    for i in range(n):\n",
    "        crop = gray[:, i*45:(i+1)*45]\n",
    "        feat = hog(crop, pixels_per_cell=(8, 8), cells_per_block=(2, 2))\n",
    "        seq.append(model.predict([feat])[0])\n",
    "    return seq\n",
    "\n",
    "predicted_seq = classify_expression_image(cv2.imread('generated_expression.png'), knn)\n",
    "expr_str = ''.join(predicted_seq)\n",
    "print(\"Восстановленная строка:\", expr_str)\n"
   ]
  },
  {
   "cell_type": "code",
   "execution_count": 6,
   "id": "d666097f",
   "metadata": {},
   "outputs": [
    {
     "name": "stdout",
     "output_type": "stream",
     "text": [
      "Результат выражения: 208\n"
     ]
    }
   ],
   "source": [
    "def validate_expression(expr):\n",
    "    pattern = r'^\\(?[A-Za-z0-9][\\+\\-\\*\\/][A-Za-z0-9]\\)?$'\n",
    "    return bool(re.match(pattern, expr))\n",
    "\n",
    "def evaluate_expression(expr):\n",
    "    # Заменяем буквы на их ASCII-коды\n",
    "    expr_trans = ''.join(str(ord(c)) if c.isalpha() else c for c in expr)\n",
    "    return eval(expr_trans)\n",
    "\n",
    "if validate_expression(expr_str):\n",
    "    result = evaluate_expression(expr_str)\n",
    "    print(\"Результат выражения:\", result)\n",
    "else:\n",
    "    print(\"Строка не является корректным выражением.\")"
   ]
  },
  {
   "cell_type": "code",
   "execution_count": 7,
   "id": "c3c73b13",
   "metadata": {},
   "outputs": [
    {
     "name": "stdout",
     "output_type": "stream",
     "text": [
      "Бинарная строка сохранена в binary_output.txt\n"
     ]
    }
   ],
   "source": [
    "def encode_to_binary(file_path='generated_expression.png', output_txt='binary_output.txt'):\n",
    "    img = cv2.imread(file_path, cv2.IMREAD_GRAYSCALE)\n",
    "    _, thresh = cv2.threshold(img, 127, 255, cv2.THRESH_BINARY)\n",
    "    flat = (thresh.flatten() > 0).astype(int)\n",
    "    bin_str = ''.join(map(str, flat))\n",
    "    with open(output_txt, 'w') as f:\n",
    "        f.write(bin_str)\n",
    "    print(f\"Бинарная строка сохранена в {output_txt}\")\n",
    "\n",
    "encode_to_binary()"
   ]
  }
 ],
 "metadata": {
  "kernelspec": {
   "display_name": "Python 3",
   "language": "python",
   "name": "python3"
  },
  "language_info": {
   "codemirror_mode": {
    "name": "ipython",
    "version": 3
   },
   "file_extension": ".py",
   "mimetype": "text/x-python",
   "name": "python",
   "nbconvert_exporter": "python",
   "pygments_lexer": "ipython3",
   "version": "3.12.8"
  }
 },
 "nbformat": 4,
 "nbformat_minor": 5
}
